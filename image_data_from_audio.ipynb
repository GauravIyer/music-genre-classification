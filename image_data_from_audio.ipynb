{
 "cells": [
  {
   "cell_type": "code",
   "execution_count": 21,
   "metadata": {},
   "outputs": [],
   "source": [
    "import librosa\n",
    "import librosa.display\n",
    "import numpy as np\n",
    "import matplotlib.pyplot as plt\n",
    "import os\n",
    "from PIL import Image\n",
    "import pathlib"
   ]
  },
  {
   "cell_type": "code",
   "execution_count": 22,
   "metadata": {},
   "outputs": [],
   "source": [
    "cmap = plt.get_cmap('plasma')"
   ]
  },
  {
   "cell_type": "code",
   "execution_count": 23,
   "metadata": {},
   "outputs": [
    {
     "name": "stdout",
     "output_type": "stream",
     "text": [
      "blues done!\n",
      "classical done!\n",
      "country done!\n",
      "disco done!\n",
      "hiphop done!\n",
      "jazz done!\n",
      "metal done!\n",
      "pop done!\n",
      "reggae done!\n",
      "rock done!\n"
     ]
    },
    {
     "data": {
      "text/plain": [
       "<Figure size 720x720 with 0 Axes>"
      ]
     },
     "metadata": {},
     "output_type": "display_data"
    }
   ],
   "source": [
    "plt.figure(figsize=(10,10))\n",
    "genres = 'blues classical country disco hiphop jazz metal pop reggae rock'.split()\n",
    "for g in genres:\n",
    "    pathlib.Path(f'img_data_mel/{g}').mkdir(parents=True, exist_ok=True)     \n",
    "    for filename in os.listdir(f'./Data/genres/{g}'):\n",
    "        songname = f'./data/genres/{g}/{filename}'\n",
    "        y, sr = librosa.load(songname, mono=True, duration=30)\n",
    "        plt.axis('off');\n",
    "        plt.axes([0., 0., 1., 1.], frameon=False, xticks=[], yticks=[])\n",
    "        S=librosa.feature.melspectrogram(y, n_fft=2048,sr=sr);\n",
    "        librosa.display.specshow(librosa.power_to_db(S, ref=np.max))\n",
    "        \n",
    "        plt.savefig(f'img_data_mel/{g}/{filename[:-3].replace(\".\", \"\")}.jpg')\n",
    "        plt.clf()\n",
    "    print(f'{g} done!')"
   ]
  },
  {
   "cell_type": "code",
   "execution_count": null,
   "metadata": {},
   "outputs": [],
   "source": []
  }
 ],
 "metadata": {
  "kernelspec": {
   "display_name": "Python 3",
   "language": "python",
   "name": "python3"
  },
  "language_info": {
   "codemirror_mode": {
    "name": "ipython",
    "version": 3
   },
   "file_extension": ".py",
   "mimetype": "text/x-python",
   "name": "python",
   "nbconvert_exporter": "python",
   "pygments_lexer": "ipython3",
   "version": "3.7.3"
  }
 },
 "nbformat": 4,
 "nbformat_minor": 2
}
